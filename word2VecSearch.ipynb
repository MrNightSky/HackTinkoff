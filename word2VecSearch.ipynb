{
 "cells": [
  {
   "cell_type": "code",
   "execution_count": 24,
   "metadata": {},
   "outputs": [],
   "source": [
    "import sys\n",
    "import gensim, logging\n",
    "import wget\n",
    "import numpy as np\n",
    "\n",
    "logging.basicConfig(format='%(asctime)s : %(levelname)s : %(message)s', level=logging.INFO)"
   ]
  },
  {
   "cell_type": "code",
   "execution_count": 2,
   "metadata": {},
   "outputs": [
    {
     "name": "stdout",
     "output_type": "stream",
     "text": [
      " 99% [..................................................................... ] 484417536 / 484452285"
     ]
    },
    {
     "name": "stderr",
     "output_type": "stream",
     "text": [
      "2019-02-06 16:54:47,672 : INFO : loading projection weights from <zipfile.ZipExtFile name='model.bin' mode='r' compress_type=deflate>\n"
     ]
    },
    {
     "name": "stdout",
     "output_type": "stream",
     "text": [
      "\r",
      " 99% [..................................................................... ] 484425728 / 484452285\r",
      " 99% [..................................................................... ] 484433920 / 484452285\r",
      " 99% [..................................................................... ] 484442112 / 484452285\r",
      " 99% [..................................................................... ] 484450304 / 484452285\r",
      "100% [......................................................................] 484452285 / 484452285"
     ]
    },
    {
     "name": "stderr",
     "output_type": "stream",
     "text": [
      "2019-02-06 16:55:05,934 : INFO : loaded (189193, 300) matrix from <zipfile.ZipExtFile [closed]>\n"
     ]
    }
   ],
   "source": [
    "import zipfile\n",
    "model_url = 'http://vectors.nlpl.eu/repository/11/180.zip'\n",
    "m = wget.download(model_url)\n",
    "model_file = model_url.split('/')[-1]\n",
    "with zipfile.ZipFile(model_file, 'r') as archive:\n",
    "    stream = archive.open('model.bin')\n",
    "    model = gensim.models.KeyedVectors.load_word2vec_format(stream, binary=True)"
   ]
  },
  {
   "cell_type": "code",
   "execution_count": 23,
   "metadata": {},
   "outputs": [
    {
     "data": {
      "text/plain": [
       "[('мотоцикл_NOUN', 0.748032808303833),\n",
       " ('трехколесный_ADJ', 0.6866245269775391),\n",
       " ('мотороллер_NOUN', 0.6557185649871826),\n",
       " ('самокат_NOUN', 0.6538883447647095),\n",
       " ('велосипедист_NOUN', 0.6201559901237488),\n",
       " ('велосипедный_ADJ', 0.6201175451278687),\n",
       " ('мопед_NOUN', 0.5988997220993042),\n",
       " ('автомобиль_NOUN', 0.5844783782958984),\n",
       " ('конек_NOUN', 0.573513388633728),\n",
       " ('двухколесный_ADJ', 0.5622050762176514)]"
      ]
     },
     "execution_count": 23,
     "metadata": {},
     "output_type": "execute_result"
    }
   ],
   "source": [
    "model.most_similar('велосипед_NOUN')"
   ]
  },
  {
   "cell_type": "code",
   "execution_count": 42,
   "metadata": {},
   "outputs": [
    {
     "name": "stdout",
     "output_type": "stream",
     "text": [
      "Купить велосипед горный\n",
      "Купить\n",
      "велосипед\n",
      "горный\n",
      "[0.20917456 0.10926779 0.08283013]\n",
      "0\n"
     ]
    }
   ],
   "source": [
    "quest = input()\n",
    "score = np.array([0., 0., 0.])\n",
    "for word in quest.split():\n",
    "    try:\n",
    "        print(word)\n",
    "        score[0] += model.similarity(word + '_NOUN', 'спорт_NOUN')\n",
    "        score[1] += model.similarity(word + '_NOUN', 'еда_NOUN')\n",
    "        score[2] += model.similarity(word + '_NOUN', 'таблетка_NOUN')\n",
    "    except BaseException:\n",
    "        try:\n",
    "            score[0] += model.similarity(word + '_ADJ', 'спорт_NOUN')\n",
    "            score[1] += model.similarity(word + '_ADJ', 'еда_NOUN')\n",
    "            score[2] += model.similarity(word + '_ADJ', 'таблетка_NOUN')\n",
    "        except BaseException:\n",
    "            pass\n",
    "print(score)\n",
    "print(np.argmax(score))"
   ]
  },
  {
   "cell_type": "code",
   "execution_count": 40,
   "metadata": {},
   "outputs": [
    {
     "data": {
      "text/plain": [
       "-0.05174176"
      ]
     },
     "execution_count": 40,
     "metadata": {},
     "output_type": "execute_result"
    }
   ],
   "source": [
    "word = 'купить'\n",
    "model.similarity(word + '_NOUN', 'спорт_NOUN')"
   ]
  }
 ],
 "metadata": {
  "kernelspec": {
   "display_name": "Python 3",
   "language": "python",
   "name": "python3"
  },
  "language_info": {
   "codemirror_mode": {
    "name": "ipython",
    "version": 3
   },
   "file_extension": ".py",
   "mimetype": "text/x-python",
   "name": "python",
   "nbconvert_exporter": "python",
   "pygments_lexer": "ipython3",
   "version": "3.6.5"
  }
 },
 "nbformat": 4,
 "nbformat_minor": 2
}
