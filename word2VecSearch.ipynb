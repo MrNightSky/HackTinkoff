{
 "cells": [
  {
   "cell_type": "code",
   "execution_count": 1,
   "metadata": {},
   "outputs": [],
   "source": [
    "from pymystem3 import Mystem\n",
    "import os\n",
    "import pandas as pd\n",
    "import tqdm\n",
    "import numpy as np\n",
    "import query_preprocessing as qp\n",
    "import search_close as sc\n",
    "import get_offer as go"
   ]
  },
  {
   "cell_type": "markdown",
   "metadata": {},
   "source": [
    " ### Cell that you have to use"
   ]
  },
  {
   "cell_type": "code",
   "execution_count": null,
   "metadata": {},
   "outputs": [],
   "source": [
    "inp = input()\n",
    "quest, fr, to = qp.preproc(inp, 'sport')\n",
    "category = sc.category(quest)\n",
    "if category == 'food':\n",
    "    quest, fr, to = qp.preproc(inp, category)\n",
    "    category = sc.category(quest)\n",
    "\n",
    "data = sc.Total_search(category, quest)\n",
    "if fr == to:\n",
    "    fr = fr * 0.9\n",
    "    to = to * 1.1\n",
    "pre_data = data.loc[(data['Цена'].values > fr) * (data['Цена'].values < to)].copy()\n",
    "ans = pd.DataFrame(pre_data.values, index=range(pre_data.shape[0]), columns=pre_data.columns)[:5]\n",
    "ans = ans.loc[ans.Similarity.values > ans.Similarity[0] * 0.9]\n",
    "go.Make_json(ans, ans.Name.values, 'ans')"
   ]
  },
  {
   "cell_type": "markdown",
   "metadata": {},
   "source": [
    "### Cells for test data with 500 requests"
   ]
  },
  {
   "cell_type": "code",
   "execution_count": 2,
   "metadata": {},
   "outputs": [],
   "source": [
    "input_data = pd.read_table('query_text_final.txt', names=['query'])\n",
    "ida = input_data['query'].values"
   ]
  },
  {
   "cell_type": "code",
   "execution_count": 3,
   "metadata": {},
   "outputs": [
    {
     "data": {
      "application/vnd.jupyter.widget-view+json": {
       "model_id": "4adfc94ea81e45589c8a412f39e764cb",
       "version_major": 2,
       "version_minor": 0
      },
      "text/plain": [
       "HBox(children=(IntProgress(value=0, max=500), HTML(value='')))"
      ]
     },
     "metadata": {},
     "output_type": "display_data"
    },
    {
     "name": "stderr",
     "output_type": "stream",
     "text": [
      "/opt/conda/envs/py36/lib/python3.6/site-packages/numpy/core/fromnumeric.py:2957: RuntimeWarning: Mean of empty slice.\n",
      "  out=out, **kwargs)\n",
      "/opt/conda/envs/py36/lib/python3.6/site-packages/numpy/core/_methods.py:80: RuntimeWarning: invalid value encountered in double_scalars\n",
      "  ret = ret.dtype.type(ret / rcount)\n"
     ]
    },
    {
     "name": "stdout",
     "output_type": "stream",
     "text": [
      "\n"
     ]
    }
   ],
   "source": [
    "for i in tqdm.tqdm_notebook(range(500)):\n",
    "    inp = ida[i]\n",
    "    quest, fr, to = qp.preproc(inp, 'sport')\n",
    "    category = sc.category(quest)\n",
    "    if category == 'food':\n",
    "        quest, fr, to = qp.preproc(inp, category)\n",
    "        category = sc.category(quest)\n",
    "\n",
    "    data = sc.Total_search(category, quest)\n",
    "    if fr == to:\n",
    "        fr = fr * 0.9\n",
    "        to = to * 1.1\n",
    "    pre_data = data.loc[(data['Цена'].values > fr) * (data['Цена'].values < to)].copy()\n",
    "    ans = pd.DataFrame(pre_data.values, index=range(pre_data.shape[0]), columns=pre_data.columns)[:5]\n",
    "    try:\n",
    "        ans = ans.loc[ans.Similarity.values > ans.Similarity[0] * 0.9]\n",
    "    except BaseException:\n",
    "        pass\n",
    "    go.Make_json(ans, ans.Name.values, str(i))"
   ]
  }
 ],
 "metadata": {
  "kernelspec": {
   "display_name": "Python 3",
   "language": "python",
   "name": "python3"
  },
  "language_info": {
   "codemirror_mode": {
    "name": "ipython",
    "version": 3
   },
   "file_extension": ".py",
   "mimetype": "text/x-python",
   "name": "python",
   "nbconvert_exporter": "python",
   "pygments_lexer": "ipython3",
   "version": "3.6.8"
  }
 },
 "nbformat": 4,
 "nbformat_minor": 2
}
