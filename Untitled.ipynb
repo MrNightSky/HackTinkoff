{
 "cells": [
  {
   "cell_type": "code",
   "execution_count": 40,
   "metadata": {},
   "outputs": [],
   "source": [
    "import gensim.downloader as api\n",
    "\n",
    "model = api.load(\"word2vec-ruscorpora-300\")  # download the model and return as object ready for use"
   ]
  },
  {
   "cell_type": "code",
   "execution_count": 56,
   "metadata": {},
   "outputs": [
    {
     "name": "stdout",
     "output_type": "stream",
     "text": [
      "0.121770725\n",
      "0.18624356\n",
      "0.25691205\n"
     ]
    }
   ],
   "source": [
    "# word = 'манго' + '_NOUN'\n",
    "word = 'протеин_NOUN'\n",
    "\n",
    "print(model.similarity(word, 'спорт_NOUN'))\n",
    "print(model.similarity(word, 'еда_NOUN'))\n",
    "print(model.similarity(word, 'таблетка_NOUN'))"
   ]
  },
  {
   "cell_type": "code",
   "execution_count": 48,
   "metadata": {},
   "outputs": [
    {
     "data": {
      "text/plain": [
       "0.23244438"
      ]
     },
     "execution_count": 48,
     "metadata": {},
     "output_type": "execute_result"
    }
   ],
   "source": [
    "model.similarity('горный_ADJ', 'велосипед_NOUN')"
   ]
  },
  {
   "cell_type": "code",
   "execution_count": 51,
   "metadata": {},
   "outputs": [
    {
     "data": {
      "text/plain": [
       "[('аланин_NOUN', 0.734866738319397),\n",
       " ('фенилаланин_NOUN', 0.7346190214157104),\n",
       " ('аминокислотный_ADJ', 0.7327826023101807),\n",
       " ('пролин_NOUN', 0.7290881276130676),\n",
       " ('полипептид_NOUN', 0.7275638580322266),\n",
       " ('белковый_ADJ', 0.7157720327377319),\n",
       " ('гистидин_NOUN', 0.7140984535217285),\n",
       " ('цистеиновый_ADJ', 0.7094455361366272),\n",
       " ('фермент_NOUN', 0.7057780027389526),\n",
       " ('моносахарид_NOUN', 0.7016745805740356)]"
      ]
     },
     "execution_count": 51,
     "metadata": {},
     "output_type": "execute_result"
    }
   ],
   "source": [
    "model.most_similar(\"аминокислота_NOUN\")"
   ]
  },
  {
   "cell_type": "code",
   "execution_count": 57,
   "metadata": {},
   "outputs": [],
   "source": []
  },
  {
   "cell_type": "code",
   "execution_count": 144,
   "metadata": {},
   "outputs": [
    {
     "data": {
      "text/plain": [
       "True"
      ]
     },
     "execution_count": 144,
     "metadata": {},
     "output_type": "execute_result"
    }
   ],
   "source": [
    "'a' in punctuation + ascii_letters + digits"
   ]
  },
  {
   "cell_type": "code",
   "execution_count": 147,
   "metadata": {},
   "outputs": [],
   "source": [
    "import re\n",
    "from string import punctuation\n",
    "from pymystem3 import Mystem\n",
    "import string\n",
    "\n",
    "def preprocess_text(str1 = 'Велосипеды / Велосипеды / Горные / CUBE / Велосипед CUBE Access WS Aqua Green 2018 /~Велосипед CUBE Access WS Aqua Green 2018'):\n",
    "    str1 = str1.replace(punctuation, \" \")\n",
    "    str1 = ''.join(i for i in str1 if not (i.isdigit() or isEnglish(i)))\n",
    "    \n",
    "    mystem = Mystem()\n",
    "    tokens = mystem.lemmatize(str1.lower())\n",
    "    str1 = \" \".join(tokens)\n",
    "    \n",
    "    res = set()\n",
    "    for word in str1.split():\n",
    "        word_adv=word+'_ADJ'\n",
    "        word_noun=word+'_NOUN'\n",
    "        try:\n",
    "            model.similarity(word_adv, 'слово_NOUN')\n",
    "            res.add(word_adv)\n",
    "        except BaseException:\n",
    "            pass\n",
    "        try:\n",
    "            model.similarity(word_noun, 'слово_NOUN')\n",
    "            res.add(word_noun)\n",
    "        except BaseException:\n",
    "            pass\n",
    "    \n",
    "    return list(res)\n",
    "\n",
    "def isEnglish(s):\n",
    "    if(s == ' '):\n",
    "        return False\n",
    "    try:\n",
    "        s.encode(encoding='utf-8').decode('ascii')\n",
    "    except UnicodeDecodeError:\n",
    "        return False\n",
    "    else:\n",
    "        return True"
   ]
  },
  {
   "cell_type": "code",
   "execution_count": 148,
   "metadata": {},
   "outputs": [
    {
     "name": "stdout",
     "output_type": "stream",
     "text": [
      "['велосипед_NOUN', 'горный_ADJ']\n",
      "CPU times: user 8.05 ms, sys: 18.7 ms, total: 26.7 ms\n",
      "Wall time: 5.21 s\n"
     ]
    }
   ],
   "source": [
    "%%time\n",
    "preprocess_text()\n",
    "preprocess_text()\n",
    "preprocess_text()\n",
    "preprocess_text()\n",
    "print(preprocess_text())"
   ]
  },
  {
   "cell_type": "code",
   "execution_count": null,
   "metadata": {},
   "outputs": [],
   "source": []
  }
 ],
 "metadata": {
  "kernelspec": {
   "display_name": "py3.6",
   "language": "python",
   "name": "other-env"
  },
  "language_info": {
   "codemirror_mode": {
    "name": "ipython",
    "version": 3
   },
   "file_extension": ".py",
   "mimetype": "text/x-python",
   "name": "python",
   "nbconvert_exporter": "python",
   "pygments_lexer": "ipython3",
   "version": "3.6.5"
  }
 },
 "nbformat": 4,
 "nbformat_minor": 2
}
