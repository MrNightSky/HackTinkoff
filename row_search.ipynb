{
 "cells": [
  {
   "cell_type": "code",
   "execution_count": null,
   "metadata": {},
   "outputs": [],
   "source": [
    "import sys\n",
    "import gensim, logging\n",
    "import pandas as pd"
   ]
  },
  {
   "cell_type": "code",
   "execution_count": null,
   "metadata": {},
   "outputs": [],
   "source": [
    "import gensim.downloader as api\n",
    "\n",
    "model = api.load(\"word2vec-ruscorpora-300\")"
   ]
  },
  {
   "cell_type": "code",
   "execution_count": null,
   "metadata": {},
   "outputs": [],
   "source": [
    "def Search_column_content(Content,Search_content,file_name,noun_bonus=1,adj_bonus=1):\n",
    "    \"\"\"\n",
    "    Content - pd.Series с контентом.\n",
    "    Search_content - List с контентом(!) поиска [горный_NOUN,горный_ADJ,....]  \n",
    "    \n",
    "    Выход - по датафрейм (Similarity | id(просто чтобы не просрать) | магазин.csv)\n",
    "    \n",
    "    \"\"\"\n",
    "    Similarity=[]\n",
    "    for row in Content:\n",
    "        #row строка вида велосипед_NOUN,велосипед_ADJ, и тд\n",
    "        content_words=row.split(',')\n",
    "        Final_rating=[]\n",
    "\n",
    "        for word in Search_content:\n",
    "            coef=1\n",
    "            if word.split('_')[1]=='NOUN':\n",
    "                coef=noun_bonus\n",
    "            else:\n",
    "                coef=adj_bonus\n",
    "            ratings=[]\n",
    "            for cont in content_words:\n",
    "                #print(word,cont)\n",
    "                \n",
    "                ratings.append(model.similarity(word, cont)*coef)\n",
    "            Final_rating.append(max(ratings))\n",
    "        Similarity.append(sum(Final_rating))\n",
    "        \n",
    "    return pd.DataFrame({'Similarity':Similarity,'ID':range(len(Similarity)),'Shop':file_name})"
   ]
  },
  {
   "cell_type": "code",
   "execution_count": null,
   "metadata": {},
   "outputs": [],
   "source": [
    "Category='Food'\n",
    "File_names_by_cat={'Sport':['Вставить через запятую'],'Food':['data_with_keyWords.csv','data_with_keyWords1.csv'],'Tablets':[]}\n",
    "text=['яблоко_NOUN','красное_NOUN','красный_ADJ']"
   ]
  },
  {
   "cell_type": "code",
   "execution_count": null,
   "metadata": {},
   "outputs": [],
   "source": [
    "def Total_search(File_names,Search_content): \n",
    "    \"\"\"\n",
    "    File_names = File_names_by_cat[Category]\n",
    "    Search_content - Обработанная строка поиска в виде List\n",
    "    \n",
    "    Выход - отсортированный по Similarity descending полный Dataframe вида (Similarity | id(в оригинальном файле) | магазин.csv)\n",
    "    \n",
    "    \"\"\"\n",
    "    \n",
    "    All_similarities=[]\n",
    "    for file in File_names:\n",
    "        print('NEXT FILE')\n",
    "        current_file=pd.read_csv(file)\n",
    "        All_similarities.append(Search_column_content(current_file['words'].iloc[:100],Search_content,file,2,0.75))\n",
    "    return pd.concat(All_similarities,axis=0).sort_values(by=['Similarity'],ascending =False)"
   ]
  },
  {
   "cell_type": "code",
   "execution_count": null,
   "metadata": {},
   "outputs": [],
   "source": [
    "result=Total_search(File_names_by_cat[Category],text)"
   ]
  }
 ],
 "metadata": {
  "kernelspec": {
   "display_name": "Python 3",
   "language": "python",
   "name": "python3"
  },
  "language_info": {
   "codemirror_mode": {
    "name": "ipython",
    "version": 3
   },
   "file_extension": ".py",
   "mimetype": "text/x-python",
   "name": "python",
   "nbconvert_exporter": "python",
   "pygments_lexer": "ipython3",
   "version": "3.6.5"
  }
 },
 "nbformat": 4,
 "nbformat_minor": 2
}
